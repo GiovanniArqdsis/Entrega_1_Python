{
 "cells": [
  {
   "cell_type": "code",
   "execution_count": null,
   "metadata": {},
   "outputs": [],
   "source": [
    "raio = int (input (\"Digite o raio \"))\n",
    "areaC = 3.14 * (raio ** 2)\n",
    "print (areaC)"
   ]
  },
  {
   "cell_type": "code",
   "execution_count": null,
   "metadata": {},
   "outputs": [],
   "source": [
    "ladoQ = int (input (\"Digite o lado do quadrado \"))\n",
    "areaQ = ladoQ ** 2\n",
    "print (areaQ * 2)"
   ]
  },
  {
   "cell_type": "code",
   "execution_count": null,
   "metadata": {},
   "outputs": [],
   "source": [
    "salarioH = int (input (\"Digite o salario por hora \"))\n",
    "salarioM = (salarioH * 8) * 22\n",
    "print (salarioM)"
   ]
  },
  {
   "cell_type": "code",
   "execution_count": null,
   "metadata": {},
   "outputs": [],
   "source": [
    "farenheit = int (input (\"Digite a temperatura em farenheit \"))\n",
    "celsius = (5 * (farenheit - 32) / 9)\n",
    "print (celsius)"
   ]
  },
  {
   "cell_type": "code",
   "execution_count": null,
   "metadata": {},
   "outputs": [],
   "source": [
    "celsius = int (input (\"Digite a temperatura em celsius \"))\n",
    "farenheit = (32 + celsius * 1,8)\n",
    "print (farenheit)"
   ]
  },
  {
   "cell_type": "code",
   "execution_count": 1,
   "metadata": {},
   "outputs": [
    {
     "ename": "SyntaxError",
     "evalue": "invalid syntax (<ipython-input-1-32d6d6b12529>, line 2)",
     "output_type": "error",
     "traceback": [
      "\u001b[1;36m  File \u001b[1;32m\"<ipython-input-1-32d6d6b12529>\"\u001b[1;36m, line \u001b[1;32m2\u001b[0m\n\u001b[1;33m    nu2 = int (input (\"Digite o segundo  numero\")\u001b[0m\n\u001b[1;37m      ^\u001b[0m\n\u001b[1;31mSyntaxError\u001b[0m\u001b[1;31m:\u001b[0m invalid syntax\n"
     ]
    }
   ],
   "source": [
    "nu1 = int (input (\"Digite o primeiro numero\")\n",
    "nu2 = int (input (\"Digite o segundo  numero\")\n",
    "nu3 = int (input (\"Digite o terceiro numero\")\n",
    "fazer1 = (nu1 * 2) * nu2 / 2\n",
    "fazer2 = (nu1 * 3) + nu3\n",
    "fazer3 = nu3 ** 3\n",
    "print (fazer1)\n",
    "print (fazer2)\n",
    "print (fazer3)"
   ]
  },
  {
   "cell_type": "code",
   "execution_count": null,
   "metadata": {},
   "outputs": [],
   "source": [
    "quilos = int (input (\"Digite quantos quilos de peixe\")\n",
    "excedente = 0\n",
    "if(quilos > 50)\n",
    "       excedente = quilos - 50 \n",
    "else\n",
    "              print (\"peso esta ok\")\n",
    "              \n",
    "print (excedente * 4)"
   ]
  },
  {
   "cell_type": "code",
   "execution_count": null,
   "metadata": {},
   "outputs": [],
   "source": [
    "salarioH = int (input (\"Digite o salario por hora \"))\n",
    "salarioB = (salarioH * 8) * 22\n",
    "IR = salarioB * 0.11\n",
    "INSS = salarioB * 0.08\n",
    "sindicato = salarioB * 0.05\n",
    "salarioL = salarioB - IR - INSS - sindicato\n",
    "print (salarioB)\n",
    "print (IR)\n",
    "print (INSS)\n",
    "print (sindicato)\n",
    "print (salarioL)"
   ]
  },
  {
   "cell_type": "code",
   "execution_count": null,
   "metadata": {},
   "outputs": [],
   "source": [
    "texto1 = input (\"Digite o texto \")\n",
    "texto2 = input (\"Digite o texto \")\n",
    "print = (len(texto1))\n",
    "print = (len(texto2))"
   ]
  },
  {
   "cell_type": "code",
   "execution_count": null,
   "metadata": {},
   "outputs": [],
   "source": [
    "nome = input (\"digite seu nome \")\n",
    "nome\n",
    "nome[::-1]"
   ]
  },
  {
   "cell_type": "code",
   "execution_count": null,
   "metadata": {},
   "outputs": [],
   "source": [
    "n = input (\"digite a data de nascimento\")\n",
    "if (n[:3] == 1)\n",
    "print (janeiro)\n",
    "if (n[:3] == 2)\n",
    "print (fevereiro)\n",
    "if (n[:3] == 3)\n",
    "print (março)\n",
    "if (n[:3] == 4)\n",
    "print (abril)\n",
    "if (n[:3] == 5)\n",
    "print (maio)\n",
    "if (n[:3] == 6)\n",
    "print (junho)\n",
    "if (n[:3] == 7)\n",
    "print (julho)\n",
    "if (n[:3] == 8)\n",
    "print (agosto)\n",
    "if (n[:3] == 9)\n",
    "print (setembro)\n",
    "if (n[:3] == 1 n[:2] == 0)\n",
    "print (outubro)\n",
    "if (n[:3] == 1 n[:2] == 1)\n",
    "print (novembro)\n",
    "if (n[:3] == 1 n[:2] == 2)\n",
    "print (desembro)"
   ]
  },
  {
   "cell_type": "code",
   "execution_count": null,
   "metadata": {},
   "outputs": [],
   "source": []
  }
 ],
 "metadata": {
  "kernelspec": {
   "display_name": "Python 3",
   "language": "python",
   "name": "python3"
  },
  "language_info": {
   "codemirror_mode": {
    "name": "ipython",
    "version": 3
   },
   "file_extension": ".py",
   "mimetype": "text/x-python",
   "name": "python",
   "nbconvert_exporter": "python",
   "pygments_lexer": "ipython3",
   "version": "3.7.1"
  }
 },
 "nbformat": 4,
 "nbformat_minor": 2
}
